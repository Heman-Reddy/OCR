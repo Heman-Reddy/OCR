{
 "cells": [
  {
   "cell_type": "code",
   "execution_count": 1,
   "id": "advanced-feature",
   "metadata": {},
   "outputs": [
    {
     "name": "stdout",
     "output_type": "stream",
     "text": [
      " * Serving Flask app \"__main__\" (lazy loading)\n",
      " * Environment: production\n",
      "   WARNING: This is a development server. Do not use it in a production deployment.\n",
      "   Use a production WSGI server instead.\n",
      " * Debug mode: on\n"
     ]
    },
    {
     "name": "stderr",
     "output_type": "stream",
     "text": [
      " * Restarting with windowsapi reloader\n"
     ]
    },
    {
     "ename": "SystemExit",
     "evalue": "1",
     "output_type": "error",
     "traceback": [
      "An exception has occurred, use %tb to see the full traceback.\n",
      "\u001b[1;31mSystemExit\u001b[0m\u001b[1;31m:\u001b[0m 1\n"
     ]
    },
    {
     "name": "stderr",
     "output_type": "stream",
     "text": [
      "C:\\Users\\heman\\Anaconda3\\lib\\site-packages\\IPython\\core\\interactiveshell.py:3445: UserWarning: To exit: use 'exit', 'quit', or Ctrl-D.\n",
      "  warn(\"To exit: use 'exit', 'quit', or Ctrl-D.\", stacklevel=1)\n"
     ]
    }
   ],
   "source": [
    "import numpy as np\n",
    "from flask import Flask, request, jsonify, render_template\n",
    "import cv2\n",
    "import pytesseract\n",
    "from PIL import Image\n",
    "from gtts import gTTS\n",
    "import os\n",
    "\n",
    "app = Flask(__name__)\n",
    "\n",
    "\n",
    " \n",
    " \n",
    "@app.route('/')  \n",
    "def upload():  \n",
    "    return render_template(\"index.html\")  \n",
    " \n",
    "@app.route('/success', methods = ['POST'])  \n",
    "def success():  \n",
    "    if request.method == 'POST':  \n",
    "        f = request.files['file']  \n",
    "        f.save(f.filename)  \n",
    "        name = f.filename\n",
    "        pytesseract.pytesseract.tesseract_cmd = r'C:\\Program Files\\Tesseract-OCR\\tesseract.exe'\n",
    "        # Path of working folder on Disk\n",
    "        src_path = './'\n",
    "        def get_string(img_path):\n",
    "            # Read image with opencv\n",
    "            img = cv2.imread(img_path)\n",
    "            # Convert to gray\n",
    "            img = cv2.cvtColor(img, cv2.COLOR_BGR2GRAY)\n",
    "            # Apply dilation and erosion to remove some noise\n",
    "            kernel = np.ones((1, 1), np.uint8)\n",
    "            img = cv2.dilate(img, kernel, iterations=1)\n",
    "            img = cv2.erode(img, kernel, iterations=1)\n",
    "            # Write image after removed noise\n",
    "            cv2.imwrite(src_path + \"removed_noise.png\", img)\n",
    "            #  Apply threshold to get image with only black and white\n",
    "            img = cv2.adaptiveThreshold(img, 255, cv2.ADAPTIVE_THRESH_GAUSSIAN_C, cv2.THRESH_BINARY, 31, 2)\n",
    "            # Write the image after apply opencv to do some ...\n",
    "            cv2.imwrite(src_path + \"thres.png\", img)\n",
    "            # Recognize text with tesseract for python\n",
    "            result = pytesseract.image_to_string(Image.open(src_path + \"thres.png\"))\n",
    "            # Remove template file\n",
    "            # #os.remove(temp)\n",
    "            return result\n",
    "        print('--- Recognizing text from image ---')\n",
    "        img2txt = get_string(src_path + name)\n",
    "        print(img2txt)\n",
    "        myobj = gTTS(text=img2txt, lang='en', slow=False)\n",
    "        myobj.save('output1.mp3')\n",
    "        #os.system('mpg321 output1.mp3')\n",
    "        os.system('output1.mp3')\n",
    "        print(\"------ Done -------\")\n",
    "\n",
    "        return render_template(\"index.html\" )  \n",
    "  \n",
    "if __name__ == '__main__':  \n",
    "    app.run(debug = True) \n",
    "\n",
    "\n",
    "\n",
    "\n",
    "\n"
   ]
  },
  {
   "cell_type": "code",
   "execution_count": null,
   "id": "continuing-effects",
   "metadata": {},
   "outputs": [],
   "source": []
  }
 ],
 "metadata": {
  "kernelspec": {
   "display_name": "Python 3",
   "language": "python",
   "name": "python3"
  },
  "language_info": {
   "codemirror_mode": {
    "name": "ipython",
    "version": 3
   },
   "file_extension": ".py",
   "mimetype": "text/x-python",
   "name": "python",
   "nbconvert_exporter": "python",
   "pygments_lexer": "ipython3",
   "version": "3.8.3"
  }
 },
 "nbformat": 4,
 "nbformat_minor": 5
}
